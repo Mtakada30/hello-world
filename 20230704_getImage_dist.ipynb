{
  "nbformat": 4,
  "nbformat_minor": 0,
  "metadata": {
    "colab": {
      "provenance": [],
      "include_colab_link": true
    },
    "kernelspec": {
      "name": "python3",
      "display_name": "Python 3"
    },
    "language_info": {
      "name": "python"
    }
  },
  "cells": [
    {
      "cell_type": "markdown",
      "metadata": {
        "id": "view-in-github",
        "colab_type": "text"
      },
      "source": [
        "<a href=\"https://colab.research.google.com/github/Mtakada30/hello-world/blob/main/20230704_getImage_dist.ipynb\" target=\"_parent\"><img src=\"https://colab.research.google.com/assets/colab-badge.svg\" alt=\"Open In Colab\"/></a>"
      ]
    },
    {
      "cell_type": "code",
      "source": [
        "import cv2\n",
        "import matplotlib.pyplot as plt"
      ],
      "metadata": {
        "id": "s-50On9ju7UH"
      },
      "execution_count": null,
      "outputs": []
    },
    {
      "cell_type": "markdown",
      "source": [
        "Webから取ってくる。(その1)"
      ],
      "metadata": {
        "id": "oRj_Cf2RuSI5"
      }
    },
    {
      "cell_type": "code",
      "execution_count": null,
      "metadata": {
        "id": "Es2heIWvuJ0T"
      },
      "outputs": [],
      "source": [
        "import requests\n",
        "import os\n",
        "\n",
        "def download_image(url, filepath):\n",
        "    response = requests.get(url, stream=True)\n",
        "    if response.status_code == 200:\n",
        "        with open(filepath, 'wb') as f:\n",
        "            f.write(response.content)\n",
        "\n",
        "# 画像のURL\n",
        "url = \"https://www.tama.ac.jp/guide/teacher/img/000006tate.jpg\"\n",
        "\n",
        "# ファイルへの保存パス\n",
        "filepath = \"/content/photo.jpg\"\n",
        "\n",
        "# 関数を呼び出し、画像をダウンロード\n",
        "download_image(url, filepath)\n",
        "\n",
        "img = cv2.imread(filepath)\n",
        "\n",
        "plt.imshow(img[:,:,::-1])"
      ]
    },
    {
      "cell_type": "markdown",
      "source": [
        "Webから取ってくる。(その2)"
      ],
      "metadata": {
        "id": "iX3QpvkWvLNk"
      }
    },
    {
      "cell_type": "code",
      "source": [
        "!wget -O photo.jpg https://www.tama.ac.jp/guide/teacher/img/000006tate.jpg\n",
        "photo = cv2.imread('photo.jpg')\n",
        "plt.imshow(photo[:,:,::-1])"
      ],
      "metadata": {
        "id": "w8D0Uy39vVF9"
      },
      "execution_count": null,
      "outputs": []
    },
    {
      "cell_type": "markdown",
      "source": [
        "PCにあるファイルを使う"
      ],
      "metadata": {
        "id": "i3QzbTjKvLDz"
      }
    },
    {
      "cell_type": "code",
      "source": [
        "from google.colab import files\n",
        "\n",
        "uploaded_file = files.upload()\n",
        "photo_path = next(iter(uploaded_file))\n",
        "photo = cv2.imread(photo_path)\n",
        "\n",
        "plt.imshow(photo[:,:,::-1])"
      ],
      "metadata": {
        "id": "3iQQpGiCvs_9"
      },
      "execution_count": null,
      "outputs": []
    },
    {
      "cell_type": "markdown",
      "source": [
        "Webカメラで取得する。"
      ],
      "metadata": {
        "id": "lSD0xjiNxW_L"
      }
    },
    {
      "cell_type": "code",
      "source": [
        "from IPython.display import display, Javascript\n",
        "from google.colab.output import eval_js\n",
        "from base64 import b64decode\n",
        "\n",
        "def take_photo(filename='photo.jpg', quality=0.8):\n",
        "  js = Javascript('''\n",
        "    async function takePhoto(quality) {\n",
        "      const div = document.createElement('div');\n",
        "      const capture = document.createElement('button');\n",
        "      capture.textContent = 'Capture';\n",
        "      div.appendChild(capture);\n",
        "\n",
        "      const video = document.createElement('video');\n",
        "      video.style.display = 'block';\n",
        "      const stream = await navigator.mediaDevices.getUserMedia({video: true});\n",
        "\n",
        "      document.body.appendChild(div);\n",
        "      div.appendChild(video);\n",
        "      video.srcObject = stream;\n",
        "      await video.play();\n",
        "\n",
        "      google.colab.output.setIframeHeight(document.documentElement.scrollHeight, true);\n",
        "\n",
        "      await new Promise((resolve) => capture.onclick = resolve);\n",
        "\n",
        "      const canvas = document.createElement('canvas');\n",
        "      canvas.width = video.videoWidth;\n",
        "      canvas.height = video.videoHeight;\n",
        "      canvas.getContext('2d').drawImage(video, 0, 0);\n",
        "      stream.getVideoTracks()[0].stop();\n",
        "      div.remove();\n",
        "      return canvas.toDataURL('image/jpeg', quality);\n",
        "    }\n",
        "    ''')\n",
        "  display(js)\n",
        "  data = eval_js('takePhoto({})'.format(quality))\n",
        "  binary = b64decode(data.split(',')[1])\n",
        "  with open(filename, 'wb') as f:\n",
        "    f.write(binary)\n",
        "  return filename"
      ],
      "metadata": {
        "id": "cWQiROhxxaRH"
      },
      "execution_count": null,
      "outputs": []
    },
    {
      "cell_type": "code",
      "source": [
        "from IPython.display import Image\n",
        "try:\n",
        "  filename = take_photo()\n",
        "  print('Saved to {}'.format(filename))\n",
        "\n",
        "  display(Image(filename))\n",
        "except Exception as err:\n",
        "  print(str(err))"
      ],
      "metadata": {
        "id": "4_qwtMKMxf2U"
      },
      "execution_count": null,
      "outputs": []
    }
  ]
}